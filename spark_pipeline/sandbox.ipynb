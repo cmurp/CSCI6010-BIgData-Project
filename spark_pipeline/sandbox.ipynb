{
 "cells": [
  {
   "cell_type": "code",
   "execution_count": null,
   "id": "53f3aa28-0984-4d36-8a13-00300653eb0e",
   "metadata": {},
   "outputs": [],
   "source": [
    "from pyspark.sql import SparkSession\n",
    "from spam_filter_udf import spam_filter\n",
    "from sentiment_analysis_udf import sentiment_analysis\n",
    "from pyspark.sql.functions import udf\n",
    "from pyspark.sql.types import IntegerType, FloatType\n",
    "import psycopg2\n",
    "import pandas as pd\n",
    "from tqdm import tqdm\n",
    "import os"
   ]
  },
  {
   "cell_type": "code",
   "execution_count": null,
   "id": "ab5b1890-f716-40c2-b711-8314730d73ac",
   "metadata": {},
   "outputs": [],
   "source": [
    "# Initialize SparkSession\n",
    "spark = (\n",
    "    SparkSession.builder.appName(\"GameReviewsPipeline\")\n",
    "    .config(\"spark.jars\", \"/postgresql-42.7.2.jar\")\n",
    "    .config(\"spark.executor.extraClassPath\", \"postgresql-42.7.2.jar\")\n",
    "    .config(\"spark.driver.extraClassPath\", \"/postgresql-42.7.2.jar\")\n",
    "    .getOrCreate()\n",
    ")\n",
    "spark.sparkContext.addFile(\"/spam_filter_udf.py\")\n",
    "spark.sparkContext.addFile(\"/sentiment_analysis_udf.py\")\n",
    "spark.sparkContext.addFile(\"/postgresql-42.7.2.jar\")\n",
    "\n",
    "# Database connection parameters\n",
    "usr = os.environ.get(\"DB_USER\")\n",
    "if usr is None:\n",
    "    raise Exception(\n",
    "        \"Environment variable 'DB_USER' not found. Please set it and try again.\"\n",
    "    )\n",
    "\n",
    "pwd = os.environ.get(\"DB_PWD\")\n",
    "if pwd is None:\n",
    "    raise Exception(\n",
    "        \"Environment variable 'DB_PWD' not found. Please set it and try again.\"\n",
    "    )\n",
    "\n",
    "db_host = os.environ.get(\"DB_HOST\")\n",
    "if db_host is None:\n",
    "    raise Exception(\n",
    "        \"Environment variable 'DB_HOST' not found. Please set it and try again.\"\n",
    "    )\n",
    "\n",
    "db_port = os.environ.get(\"DB_PORT\")\n",
    "if db_port is None:\n",
    "    raise Exception(\n",
    "        \"Environment variable 'DB_PORT' not found. Please set it and try again.\"\n",
    "    )\n",
    "\n",
    "db_db = os.environ.get(\"DB_DATABASE\")\n",
    "if db_db is None:\n",
    "    raise Exception(\n",
    "        \"Environment variable 'DB_DATABASE' not found. Please set it and try again.\"\n",
    "    )"
   ]
  },
  {
   "cell_type": "code",
   "execution_count": null,
   "id": "580c4139-379d-4fb8-b65f-d33b5aa044cb",
   "metadata": {},
   "outputs": [],
   "source": [
    "# Connect to the PostgreSQL database\n",
    "conn = psycopg2.connect(\n",
    "    dbname=db_db, user=usr, password=pwd, host=db_host, port=db_port\n",
    ")"
   ]
  },
  {
   "cell_type": "code",
   "execution_count": null,
   "id": "9feb61ee-1090-4d19-a322-0de154255d9d",
   "metadata": {},
   "outputs": [],
   "source": [
    "properties = {\"user\": usr, \"password\": pwd, \"driver\": \"org.postgresql.Driver\"}\n",
    "DATABASE_URI = f\"jdbc:postgresql://{db_host}:{db_port}/{db_db}\"\n",
    "\n",
    "cur = conn.cursor()\n",
    "cur.execute(\"SELECT count(1) FROM game_reviews\")\n",
    "total_rows = cur.fetchall()[0][0]\n",
    "chunk_size = 100"
   ]
  },
  {
   "cell_type": "code",
   "execution_count": null,
   "id": "9599e777-c77b-4b15-b25f-2d1cade4b11b",
   "metadata": {},
   "outputs": [],
   "source": [
    "# define the spam filter\n",
    "spam_udf = udf(spam_filter, IntegerType())\n",
    "# define the sentiment analysis\n",
    "sentiment_analysis_udf = udf(sentiment_analysis, FloatType())\n",
    "\n",
    "# since we dont have a spark cluster, this will chunk the data\n",
    "# into 1000 line segments which is more manageable locally\n",
    "for offset in tqdm(range(0, total_rows, chunk_size)):\n",
    "    query = f\"(SELECT recommendationid, review FROM game_reviews LIMIT {chunk_size} OFFSET {offset}) AS chunk\"\n",
    "    chunk_df = spark.read.jdbc(url=DATABASE_URI, table=query, properties=properties)\n",
    "    processed_df = chunk_df.withColumn(\"is_spam\", spam_udf(chunk_df[\"review\"]))\n",
    "    sdf_with_sa = processed_df.withColumn(\n",
    "        \"sentiment_score\", sentiment_analysis_udf(processed_df[\"review\"])\n",
    "    )\n",
    "    sdf_with_sa = sdf_with_sa.drop(sdf_with_sa.review)\n",
    "    results = sdf_with_sa.collect()\n",
    "    # for row in results:\n",
    "    #    cur.execute(\"\"\"\n",
    "    #        UPDATE game_reviews\n",
    "    #        SET is_spam = %s, sentiment_score = %s\n",
    "    #        WHERE recommendationid = %s\n",
    "    #        \"\"\", (row.is_spam, row.sentiment_score, row.recommendationid))\n",
    "    # conn.commit()\n",
    "\n",
    "\n",
    "spark.stop()"
   ]
  },
  {
   "cell_type": "code",
   "execution_count": null,
   "id": "11067487-d077-4608-b343-2f8ff06a7cb0",
   "metadata": {},
   "outputs": [],
   "source": [
    "import sys"
   ]
  },
  {
   "cell_type": "code",
   "execution_count": null,
   "id": "daf76554-6aea-41ad-ad12-11231e95acca",
   "metadata": {},
   "outputs": [],
   "source": [
    "sys.version_info"
   ]
  },
  {
   "cell_type": "code",
   "execution_count": null,
   "id": "db4072eb-9f36-4cb2-870f-0758bfe56363",
   "metadata": {},
   "outputs": [],
   "source": []
  }
 ],
 "metadata": {
  "kernelspec": {
   "display_name": "Python 3 (ipykernel)",
   "language": "python",
   "name": "python3"
  },
  "language_info": {
   "codemirror_mode": {
    "name": "ipython",
    "version": 3
   },
   "file_extension": ".py",
   "mimetype": "text/x-python",
   "name": "python",
   "nbconvert_exporter": "python",
   "pygments_lexer": "ipython3",
   "version": "3.10.9"
  }
 },
 "nbformat": 4,
 "nbformat_minor": 5
}
